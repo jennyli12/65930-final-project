{
 "cells": [
  {
   "cell_type": "markdown",
   "id": "f3a95de4",
   "metadata": {},
   "source": [
    "# Project"
   ]
  },
  {
   "cell_type": "code",
   "execution_count": 1,
   "id": "9a5b537b-2b15-47dd-b128-4cb056ec8c0e",
   "metadata": {},
   "outputs": [],
   "source": [
    "import os\n",
    "import yaml\n",
    "import pytimeloop.timeloopfe.v4 as tl\n",
    "from pytimeloop.timeloopfe.common.nodes import DictNode\n",
    "from pytimeloop.timeloopfe.v4.art import Art\n",
    "from pytimeloop.timeloopfe.v4.ert import Ert\n",
    "import shutil"
   ]
  },
  {
   "cell_type": "code",
   "execution_count": 2,
   "id": "6fd8a2fa-b039-44cc-a63a-cb6858f9e90e",
   "metadata": {},
   "outputs": [],
   "source": [
    "def run_timeloop_mapper(architecture, problem, constraints, mapper, config: dict = None):\n",
    "    if os.path.exists(\"./output_dir\"):\n",
    "        os.system(\"rm -r ./output_dir\")\n",
    "\n",
    "    if config:\n",
    "        spec = tl.Specification.from_yaml_files(architecture, problem, constraints, mapper, jinja_parse_data=config)\n",
    "    else:\n",
    "        spec = tl.Specification.from_yaml_files(architecture, problem, constraints, mapper)\n",
    "\n",
    "    result = tl.accelergy_app(spec, output_dir=\"./output_dir\")\n",
    "    shutil.copy(\"output_dir/ART.yaml\", \"output_dir/timeloop-mapper.ART.yaml\")\n",
    "    shutil.copy(\"output_dir/ERT.yaml\", \"output_dir/timeloop-mapper.ERT.yaml\")\n",
    "\n",
    "    spec.ERT = Ert(**DictNode.from_yaml_files(\"output_dir/ERT.yaml\")[\"ERT\"])\n",
    "    spec.ART = Art(**DictNode.from_yaml_files(\"output_dir/ART.yaml\")[\"ART\"])\n",
    "    \n",
    "    spec.ERT['tables'][0]['actions'][1]['energy'] = 0.0\n",
    "    spec.ERT['tables'][0]['actions'][2]['energy'] = 0.0\n",
    "    spec.ERT['tables'][0]['actions'][3]['energy'] = 0.0\n",
    "\n",
    "    return tl.call_mapper(spec, output_dir=\"./output_dir\")"
   ]
  },
  {
   "cell_type": "code",
   "execution_count": 13,
   "id": "2158b6f4-e8cb-4dec-8694-306b2705ce5e",
   "metadata": {},
   "outputs": [],
   "source": [
    "LAYERS = [\n",
    "    'layer_shapes/alexnet/0.yaml',\n",
    "    'layer_shapes/alexnet/1.yaml',\n",
    "    'layer_shapes/alexnet/2.yaml',\n",
    "    'layer_shapes/alexnet/3.yaml',\n",
    "    'layer_shapes/alexnet/4.yaml',\n",
    "    'layer_shapes/alexnet/5.yaml',\n",
    "    'layer_shapes/alexnet/6.yaml',\n",
    "    'layer_shapes/alexnet/7.yaml'\n",
    "]\n",
    "\n",
    "NUM_GPUS = [16,]"
   ]
  },
  {
   "cell_type": "markdown",
   "id": "3aa5cf4f-f750-4f9a-9c2a-ddba9ac12a51",
   "metadata": {},
   "source": [
    "### Data-Parallel"
   ]
  },
  {
   "cell_type": "code",
   "execution_count": 16,
   "id": "d5bc6144-0fad-47cf-b682-c81f9a1669b0",
   "metadata": {},
   "outputs": [
    {
     "name": "stdout",
     "output_type": "stream",
     "text": [
      "Number of GPUs:  16\n",
      "layer_shapes/alexnet/0.yaml 40881.29 93702400\n",
      "layer_shapes/alexnet/1.yaml 102613.66 55987200\n",
      "layer_shapes/alexnet/2.yaml 54237.7 28035072\n",
      "layer_shapes/alexnet/3.yaml 72205.47 37380096\n",
      "layer_shapes/alexnet/4.yaml 48252.78 24920064\n",
      "layer_shapes/alexnet/5.yaml 174226.51 9437184\n",
      "layer_shapes/alexnet/6.yaml 77452.28 4194304\n",
      "layer_shapes/alexnet/7.yaml 18935.42 1024000\n",
      "588805.1100000001 254680320\n"
     ]
    }
   ],
   "source": [
    "for num_gpus in NUM_GPUS:\n",
    "    print(\"Number of GPUs: \", num_gpus)\n",
    "\n",
    "    total_energy = 0\n",
    "    total_cycles = 0\n",
    "    \n",
    "    for problem in LAYERS:\n",
    "        result = run_timeloop_mapper(\n",
    "            architecture='designs/system/arch.yaml',\n",
    "            problem=problem,\n",
    "            constraints='designs/system/constraints_dp.yaml',\n",
    "            mapper='designs/_include/mapper.yaml',\n",
    "            config={'gpu_meshX': num_gpus}\n",
    "        )\n",
    "        \n",
    "        stats = open('./output_dir/timeloop-mapper.stats.txt', 'r').read()\n",
    "    \n",
    "        # print(stats)\n",
    "        # print(result.mapping)\n",
    "    \n",
    "        lines = stats.split('\\n')\n",
    "        energy = float([l for l in lines if 'Energy:' in l][0].split(' ', 2)[1])\n",
    "        cycles = int([l for l in lines if 'Cycles:' in l][0].split(' ', 1)[1])\n",
    "    \n",
    "        total_energy += energy\n",
    "        total_cycles += cycles\n",
    "        \n",
    "        print(problem, energy, cycles)\n",
    "    \n",
    "    print(total_energy, total_cycles)"
   ]
  },
  {
   "cell_type": "markdown",
   "id": "d419aa78-2924-46ab-9a43-f2218b2dddae",
   "metadata": {},
   "source": [
    "### Tensor-Parallel"
   ]
  },
  {
   "cell_type": "code",
   "execution_count": 17,
   "id": "05bc20a0-62d3-41c9-bdec-137c3174416e",
   "metadata": {},
   "outputs": [
    {
     "name": "stdout",
     "output_type": "stream",
     "text": [
      "Number of GPUs:  16\n",
      "layer_shapes/alexnet/0.yaml 105846.4368 93702400\n",
      "layer_shapes/alexnet/1.yaml 154299.536384 55987200\n",
      "layer_shapes/alexnet/2.yaml 80459.22324800001 28035072\n",
      "layer_shapes/alexnet/3.yaml 98852.078832 37380096\n",
      "layer_shapes/alexnet/4.yaml 70624.628832 24920064\n",
      "layer_shapes/alexnet/5.yaml 30025.182848 9437184\n",
      "layer_shapes/alexnet/6.yaml 14259.552848 4194304\n",
      "layer_shapes/alexnet/7.yaml 4194.118 1376256\n",
      "558560.7577920001 255032576\n"
     ]
    }
   ],
   "source": [
    "for num_gpus in NUM_GPUS:\n",
    "    print(\"Number of GPUs: \", num_gpus)\n",
    "    \n",
    "    total_energy = 0\n",
    "    total_cycles = 0\n",
    "    \n",
    "    for problem in LAYERS:\n",
    "        result = run_timeloop_mapper(\n",
    "            architecture='designs/system/arch.yaml',\n",
    "            problem=problem,\n",
    "            constraints='designs/system/constraints_tp.yaml',\n",
    "            mapper='designs/_include/mapper.yaml',\n",
    "            config={'gpu_meshX': num_gpus}\n",
    "        )\n",
    "        \n",
    "        stats = open('./output_dir/timeloop-mapper.stats.txt', 'r').read()\n",
    "    \n",
    "        # print(stats)\n",
    "        # print(result.mapping)\n",
    "    \n",
    "        lines = stats.split('\\n')\n",
    "        energy = float([l for l in lines if 'Energy:' in l][0].split(' ', 2)[1])\n",
    "        cycles = int([l for l in lines if 'Cycles:' in l][0].split(' ', 1)[1])\n",
    "\n",
    "        parsed_processed_input = open('./output_dir/parsed-processed-input.yaml', 'r').read()\n",
    "        instance = yaml.safe_load(parsed_processed_input)['problem']['instance']\n",
    "\n",
    "        num_hops = num_gpus * (num_gpus - 1)\n",
    "        tensor_size = instance['N'] * instance['M'] * instance['P'] * instance['Q']\n",
    "        \n",
    "        network_energy = num_hops * tensor_size * 1.3e-6 * 16\n",
    "        \n",
    "        total_energy += energy + network_energy\n",
    "        total_cycles += cycles\n",
    "        \n",
    "        print(problem, energy + network_energy, cycles)\n",
    "    \n",
    "    print(total_energy, total_cycles)"
   ]
  }
 ],
 "metadata": {
  "kernelspec": {
   "display_name": "Python 3 (ipykernel)",
   "language": "python",
   "name": "python3"
  },
  "language_info": {
   "codemirror_mode": {
    "name": "ipython",
    "version": 3
   },
   "file_extension": ".py",
   "mimetype": "text/x-python",
   "name": "python",
   "nbconvert_exporter": "python",
   "pygments_lexer": "ipython3",
   "version": "3.10.12"
  }
 },
 "nbformat": 4,
 "nbformat_minor": 5
}
