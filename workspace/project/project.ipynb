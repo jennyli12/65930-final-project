{
 "cells": [
  {
   "cell_type": "markdown",
   "id": "f3a95de4",
   "metadata": {},
   "source": [
    "# Project"
   ]
  },
  {
   "cell_type": "code",
   "execution_count": null,
   "id": "9a5b537b-2b15-47dd-b128-4cb056ec8c0e",
   "metadata": {},
   "outputs": [],
   "source": [
    "import os\n",
    "import pytimeloop.timeloopfe.v4 as tl"
   ]
  },
  {
   "cell_type": "code",
   "execution_count": null,
   "id": "8e2e4333-9045-41bd-99b0-fd09c1a7a3e7",
   "metadata": {},
   "outputs": [],
   "source": [
    "def run_timeloop_model(architecture, mapping, problem):\n",
    "    if os.path.exists(\"./output_dir\"):\n",
    "        os.system(\"rm -r ./output_dir\")\n",
    "\n",
    "    spec = tl.Specification.from_yaml_files(architecture, mapping, problem)\n",
    "    \n",
    "    return tl.call_model(spec, output_dir=\"./output_dir\")"
   ]
  },
  {
   "cell_type": "markdown",
   "id": "3aa5cf4f-f750-4f9a-9c2a-ddba9ac12a51",
   "metadata": {},
   "source": [
    "### Data-Parallel"
   ]
  },
  {
   "cell_type": "code",
   "execution_count": null,
   "id": "d5bc6144-0fad-47cf-b682-c81f9a1669b0",
   "metadata": {},
   "outputs": [],
   "source": [
    "result = run_timeloop_model(\"./designs/arch.yaml\", \"./designs/map_dp.yaml\", \"./designs/prob.yaml\")\n",
    "stats = open('./output_dir/timeloop-model.stats.txt', 'r').read()\n",
    "print(stats)"
   ]
  },
  {
   "cell_type": "markdown",
   "id": "d419aa78-2924-46ab-9a43-f2218b2dddae",
   "metadata": {},
   "source": [
    "### Tensor-Parallel"
   ]
  },
  {
   "cell_type": "code",
   "execution_count": null,
   "id": "05bc20a0-62d3-41c9-bdec-137c3174416e",
   "metadata": {},
   "outputs": [],
   "source": [
    "result = run_timeloop_model(\"./designs/arch.yaml\", \"./designs/map_tp.yaml\", \"./designs/prob.yaml\")\n",
    "stats = open('./output_dir/timeloop-model.stats.txt', 'r').read()\n",
    "print(stats)"
   ]
  }
 ],
 "metadata": {
  "kernelspec": {
   "display_name": "Python 3 (ipykernel)",
   "language": "python",
   "name": "python3"
  },
  "language_info": {
   "codemirror_mode": {
    "name": "ipython",
    "version": 3
   },
   "file_extension": ".py",
   "mimetype": "text/x-python",
   "name": "python",
   "nbconvert_exporter": "python",
   "pygments_lexer": "ipython3",
   "version": "3.10.12"
  }
 },
 "nbformat": 4,
 "nbformat_minor": 5
}
