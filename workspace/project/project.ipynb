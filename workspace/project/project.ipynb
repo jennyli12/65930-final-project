{
 "cells": [
  {
   "cell_type": "markdown",
   "id": "f3a95de4",
   "metadata": {},
   "source": [
    "# Project"
   ]
  },
  {
   "cell_type": "code",
   "execution_count": 51,
   "id": "9a5b537b-2b15-47dd-b128-4cb056ec8c0e",
   "metadata": {},
   "outputs": [],
   "source": [
    "import os\n",
    "import pytimeloop.timeloopfe.v4 as tl\n",
    "from pytimeloop.timeloopfe.common.nodes import DictNode\n",
    "from pytimeloop.timeloopfe.v4.art import Art\n",
    "from pytimeloop.timeloopfe.v4.ert import Ert\n",
    "import shutil"
   ]
  },
  {
   "cell_type": "code",
   "execution_count": 52,
   "id": "8e2e4333-9045-41bd-99b0-fd09c1a7a3e7",
   "metadata": {},
   "outputs": [],
   "source": [
    "def run_timeloop_model(architecture, mapping, problem, config: dict = None):\n",
    "    if os.path.exists(\"./output_dir\"):\n",
    "        os.system(\"rm -r ./output_dir\")\n",
    "\n",
    "    if config:\n",
    "        spec = tl.Specification.from_yaml_files(architecture, mapping, problem, jinja_parse_data=config)\n",
    "    else:\n",
    "        spec = tl.Specification.from_yaml_files(architecture, mapping, problem)\n",
    "    \n",
    "    return tl.call_model(spec, output_dir=\"./output_dir\")"
   ]
  },
  {
   "cell_type": "code",
   "execution_count": 78,
   "id": "6fd8a2fa-b039-44cc-a63a-cb6858f9e90e",
   "metadata": {},
   "outputs": [],
   "source": [
    "def run_timeloop_mapper_dp(architecture, problem, constraints, mapper, config: dict = None):\n",
    "    if os.path.exists(\"./output_dir\"):\n",
    "        os.system(\"rm -r ./output_dir\")\n",
    "\n",
    "    if config:\n",
    "        spec = tl.Specification.from_yaml_files(architecture, problem, constraints, mapper, jinja_parse_data=config)\n",
    "    else:\n",
    "        spec = tl.Specification.from_yaml_files(architecture, problem, constraints, mapper)\n",
    "\n",
    "    result = tl.accelergy_app(spec, output_dir=\"./output_dir\")\n",
    "    shutil.copy(\"output_dir/ART.yaml\", \"output_dir/timeloop-model.ART.yaml\")\n",
    "    shutil.copy(\"output_dir/ART.yaml\", \"output_dir/timeloop-mapper.ART.yaml\")\n",
    "    shutil.copy(\"output_dir/ERT.yaml\", \"output_dir/timeloop-model.ERT.yaml\")\n",
    "    shutil.copy(\"output_dir/ERT.yaml\", \"output_dir/timeloop-mapper.ERT.yaml\")\n",
    "\n",
    "    spec.ERT = Ert(**DictNode.from_yaml_files(\"output_dir/ERT.yaml\")[\"ERT\"])\n",
    "    spec.ART = Art(**DictNode.from_yaml_files(\"output_dir/ART.yaml\")[\"ART\"])\n",
    "    \n",
    "    spec.ERT['tables'][0]['actions'][1]['energy'] = 0.0\n",
    "    spec.ERT['tables'][0]['actions'][2]['energy'] = 0.0\n",
    "    spec.ERT['tables'][0]['actions'][3]['energy'] = 0.0\n",
    "\n",
    "    return tl.call_mapper(spec, output_dir=\"./output_dir\")"
   ]
  },
  {
   "cell_type": "code",
   "execution_count": 79,
   "id": "74f0eeeb-d0e3-4267-99fc-617217cc28df",
   "metadata": {},
   "outputs": [],
   "source": [
    "def run_timeloop_mapper_tp(architecture, problem, constraints, mapper, config: dict = None):\n",
    "    if os.path.exists(\"./output_dir\"):\n",
    "        os.system(\"rm -r ./output_dir\")\n",
    "\n",
    "    if config:\n",
    "        spec = tl.Specification.from_yaml_files(architecture, problem, constraints, mapper, jinja_parse_data=config)\n",
    "    else:\n",
    "        spec = tl.Specification.from_yaml_files(architecture, problem, constraints, mapper)\n",
    "\n",
    "    result = tl.accelergy_app(spec, output_dir=\"./output_dir\")\n",
    "    shutil.copy(\"output_dir/ART.yaml\", \"output_dir/timeloop-model.ART.yaml\")\n",
    "    shutil.copy(\"output_dir/ART.yaml\", \"output_dir/timeloop-mapper.ART.yaml\")\n",
    "    shutil.copy(\"output_dir/ERT.yaml\", \"output_dir/timeloop-model.ERT.yaml\")\n",
    "    shutil.copy(\"output_dir/ERT.yaml\", \"output_dir/timeloop-mapper.ERT.yaml\")\n",
    "\n",
    "    spec.ERT = Ert(**DictNode.from_yaml_files(\"output_dir/ERT.yaml\")[\"ERT\"])\n",
    "    spec.ART = Art(**DictNode.from_yaml_files(\"output_dir/ART.yaml\")[\"ART\"])\n",
    "\n",
    "    return tl.call_mapper(spec, output_dir=\"./output_dir\")"
   ]
  },
  {
   "cell_type": "code",
   "execution_count": 83,
   "id": "2158b6f4-e8cb-4dec-8694-306b2705ce5e",
   "metadata": {},
   "outputs": [],
   "source": [
    "problems = [\n",
    "    'layer_shapes/alexnet/0.yaml',\n",
    "    'layer_shapes/alexnet/1.yaml',\n",
    "    'layer_shapes/alexnet/2.yaml',\n",
    "    'layer_shapes/alexnet/3.yaml',\n",
    "    'layer_shapes/alexnet/4.yaml',\n",
    "    'layer_shapes/alexnet/5.yaml',\n",
    "    'layer_shapes/alexnet/6.yaml',\n",
    "    'layer_shapes/alexnet/7.yaml'\n",
    "]\n",
    "\n",
    "num_gpus = 16"
   ]
  },
  {
   "cell_type": "markdown",
   "id": "3aa5cf4f-f750-4f9a-9c2a-ddba9ac12a51",
   "metadata": {},
   "source": [
    "### Data-Parallel"
   ]
  },
  {
   "cell_type": "code",
   "execution_count": 88,
   "id": "d5bc6144-0fad-47cf-b682-c81f9a1669b0",
   "metadata": {},
   "outputs": [
    {
     "name": "stdout",
     "output_type": "stream",
     "text": [
      "num_gpus 16\n",
      "layer_shapes/alexnet/0.yaml 40881.29 93702400\n",
      "layer_shapes/alexnet/1.yaml 102613.66 55987200\n",
      "layer_shapes/alexnet/2.yaml 54237.7 28035072\n",
      "layer_shapes/alexnet/3.yaml 72205.47 37380096\n",
      "layer_shapes/alexnet/4.yaml 48252.78 24920064\n",
      "layer_shapes/alexnet/5.yaml 174536.62 9437184\n",
      "layer_shapes/alexnet/6.yaml 77452.28 4194304\n",
      "layer_shapes/alexnet/7.yaml 18935.42 1024000\n",
      "589115.2200000001 254680320\n",
      "num_gpus 32\n",
      "layer_shapes/alexnet/0.yaml 40928.88 46851200\n",
      "layer_shapes/alexnet/1.yaml 103242.8 27993600\n",
      "layer_shapes/alexnet/2.yaml 55596.65 14017536\n",
      "layer_shapes/alexnet/3.yaml 74017.41 18690048\n",
      "layer_shapes/alexnet/4.yaml 49460.74 12460032\n",
      "layer_shapes/alexnet/5.yaml 332805.5 4718592\n",
      "layer_shapes/alexnet/6.yaml 147931.83 2097152\n",
      "layer_shapes/alexnet/7.yaml 36159.16 512000\n",
      "840142.97 127340160\n",
      "num_gpus 64\n",
      "layer_shapes/alexnet/0.yaml 41024.04 23425600\n",
      "layer_shapes/alexnet/1.yaml 104501.09 13996800\n",
      "layer_shapes/alexnet/2.yaml 58996.7 7008768\n",
      "layer_shapes/alexnet/3.yaml 78550.81 9345024\n",
      "layer_shapes/alexnet/4.yaml 52483.0 6230016\n",
      "layer_shapes/alexnet/5.yaml 650273.59 2359296\n",
      "layer_shapes/alexnet/6.yaml 289028.76 1048576\n",
      "layer_shapes/alexnet/7.yaml 70606.66 256000\n",
      "1345464.65 63670080\n"
     ]
    }
   ],
   "source": [
    "for num_gpus in [16, 32, 64]:\n",
    "    print(\"num_gpus\", num_gpus)\n",
    "\n",
    "    total_energy = 0\n",
    "    total_cycles = 0\n",
    "    \n",
    "    for problem in problems:\n",
    "        result = run_timeloop_mapper_dp(\n",
    "            architecture='designs/system/arch.yaml',\n",
    "            problem=problem,\n",
    "            constraints='designs/system/constraints_dp.yaml',\n",
    "            mapper='designs/_include/mapper.yaml',\n",
    "            config={'gpu_meshX': num_gpus}\n",
    "        )\n",
    "        \n",
    "        stats = open('./output_dir/timeloop-mapper.stats.txt', 'r').read()\n",
    "    \n",
    "        # print(stats)\n",
    "        # print(result.mapping)\n",
    "    \n",
    "        lines = stats.split('\\n')\n",
    "        energy = float([l for l in lines if 'Energy:' in l][0].split(' ', 2)[1])\n",
    "        cycles = int([l for l in lines if 'Cycles:' in l][0].split(' ', 1)[1])\n",
    "    \n",
    "        total_energy += energy\n",
    "        total_cycles += cycles\n",
    "        \n",
    "        print(problem, energy, cycles)\n",
    "    \n",
    "    print(total_energy, total_cycles)"
   ]
  },
  {
   "cell_type": "markdown",
   "id": "d419aa78-2924-46ab-9a43-f2218b2dddae",
   "metadata": {},
   "source": [
    "### Tensor-Parallel"
   ]
  },
  {
   "cell_type": "code",
   "execution_count": 89,
   "id": "05bc20a0-62d3-41c9-bdec-137c3174416e",
   "metadata": {},
   "outputs": [
    {
     "name": "stdout",
     "output_type": "stream",
     "text": [
      "num_gpus 16\n",
      "layer_shapes/alexnet/0.yaml 45686.34 93702400\n",
      "layer_shapes/alexnet/1.yaml 111271.22 55987200\n",
      "layer_shapes/alexnet/2.yaml 60696.18 28035072\n",
      "layer_shapes/alexnet/3.yaml 86205.2 37380096\n",
      "layer_shapes/alexnet/4.yaml 57704.07 24920064\n",
      "layer_shapes/alexnet/5.yaml 34039.38 9437184\n",
      "layer_shapes/alexnet/6.yaml 14995.78 4194304\n",
      "layer_shapes/alexnet/7.yaml 4444.99 1376256\n",
      "415043.16000000003 255032576\n",
      "num_gpus 32\n",
      "layer_shapes/alexnet/0.yaml 49053.68 46851200\n",
      "layer_shapes/alexnet/1.yaml 130642.99 37324800\n",
      "layer_shapes/alexnet/2.yaml 70741.73 14017536\n",
      "layer_shapes/alexnet/3.yaml 109158.87 18690048\n",
      "layer_shapes/alexnet/4.yaml 73006.52 12460032\n",
      "layer_shapes/alexnet/5.yaml 34865.41 4718592\n",
      "layer_shapes/alexnet/6.yaml 15532.65 2097152\n",
      "layer_shapes/alexnet/7.yaml 5514.85 524288\n",
      "488516.70000000007 136683648\n",
      "num_gpus 64\n",
      "layer_shapes/alexnet/0.yaml 55591.05 23425600\n",
      "layer_shapes/alexnet/1.yaml 161996.95 18662400\n",
      "layer_shapes/alexnet/2.yaml 94498.08 9345024\n",
      "layer_shapes/alexnet/3.yaml 154112.02 9345024\n",
      "layer_shapes/alexnet/4.yaml 102975.29 6230016\n",
      "layer_shapes/alexnet/5.yaml 39762.19 2359296\n",
      "layer_shapes/alexnet/6.yaml 17709.0 1048576\n",
      "layer_shapes/alexnet/7.yaml 7588.3 262144\n",
      "634232.8800000001 70678080\n"
     ]
    }
   ],
   "source": [
    "for num_gpus in [16, 32, 64]:\n",
    "    print(\"num_gpus\", num_gpus)\n",
    "    \n",
    "    total_energy = 0\n",
    "    total_cycles = 0\n",
    "    \n",
    "    for problem in problems:\n",
    "        result = run_timeloop_mapper_tp(\n",
    "            architecture='designs/system/arch.yaml',\n",
    "            problem=problem,\n",
    "            constraints='designs/system/constraints_tp.yaml',\n",
    "            mapper='designs/_include/mapper.yaml',\n",
    "            config={'gpu_meshX': num_gpus}\n",
    "        )\n",
    "        \n",
    "        stats = open('./output_dir/timeloop-mapper.stats.txt', 'r').read()\n",
    "    \n",
    "        # print(stats)\n",
    "        # print(result.mapping)\n",
    "    \n",
    "        lines = stats.split('\\n')\n",
    "        energy = float([l for l in lines if 'Energy:' in l][0].split(' ', 2)[1])\n",
    "        cycles = int([l for l in lines if 'Cycles:' in l][0].split(' ', 1)[1])\n",
    "    \n",
    "        total_energy += energy\n",
    "        total_cycles += cycles\n",
    "        \n",
    "        print(problem, energy, cycles)\n",
    "    \n",
    "    print(total_energy, total_cycles)"
   ]
  }
 ],
 "metadata": {
  "kernelspec": {
   "display_name": "Python 3 (ipykernel)",
   "language": "python",
   "name": "python3"
  },
  "language_info": {
   "codemirror_mode": {
    "name": "ipython",
    "version": 3
   },
   "file_extension": ".py",
   "mimetype": "text/x-python",
   "name": "python",
   "nbconvert_exporter": "python",
   "pygments_lexer": "ipython3",
   "version": "3.10.12"
  }
 },
 "nbformat": 4,
 "nbformat_minor": 5
}
