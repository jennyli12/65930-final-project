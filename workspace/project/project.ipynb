{
 "cells": [
  {
   "cell_type": "markdown",
   "id": "f3a95de4",
   "metadata": {},
   "source": [
    "# Project"
   ]
  },
  {
   "cell_type": "code",
   "execution_count": 1,
   "id": "9a5b537b-2b15-47dd-b128-4cb056ec8c0e",
   "metadata": {},
   "outputs": [],
   "source": [
    "import os\n",
    "import pytimeloop.timeloopfe.v4 as tl"
   ]
  },
  {
   "cell_type": "code",
   "execution_count": 2,
   "id": "8e2e4333-9045-41bd-99b0-fd09c1a7a3e7",
   "metadata": {},
   "outputs": [],
   "source": [
    "def run_timeloop_model(architecture, mapping, problem):\n",
    "    if os.path.exists(\"./output_dir\"):\n",
    "        os.system(\"rm -r ./output_dir\")\n",
    "\n",
    "    spec = tl.Specification.from_yaml_files(architecture, mapping, problem)\n",
    "    \n",
    "    return tl.call_model(spec, output_dir=\"./output_dir\")"
   ]
  },
  {
   "cell_type": "code",
   "execution_count": 3,
   "id": "6fd8a2fa-b039-44cc-a63a-cb6858f9e90e",
   "metadata": {},
   "outputs": [],
   "source": [
    "def run_timeloop_mapper(architecture, problem, constraints, mapper):\n",
    "    if os.path.exists(\"./output_dir\"):\n",
    "        os.system(\"rm -r ./output_dir\")\n",
    "\n",
    "    spec = tl.Specification.from_yaml_files(architecture, problem, constraints, mapper)\n",
    "\n",
    "    return tl.call_mapper(spec, output_dir=\"./output_dir\")"
   ]
  },
  {
   "cell_type": "markdown",
   "id": "3aa5cf4f-f750-4f9a-9c2a-ddba9ac12a51",
   "metadata": {},
   "source": [
    "### Data-Parallel"
   ]
  },
  {
   "cell_type": "code",
   "execution_count": 5,
   "id": "d5bc6144-0fad-47cf-b682-c81f9a1669b0",
   "metadata": {},
   "outputs": [
    {
     "name": "stdout",
     "output_type": "stream",
     "text": [
      "SystemMemory [ Weights:307200 (307200) Inputs:3936256 (3936256) Outputs:8957952 (8957952) ] \n",
      "-------------------------------------------------------------------------------------------\n",
      "| for N in [0:4)\n",
      "\n",
      "inter_GPU_spatial [ ] \n",
      "---------------------\n",
      "|   for N in [0:16) (Spatial-X)\n",
      "\n",
      "LocalMemory [ Weights:307200 (307200) Inputs:61504 (61504) Outputs:139968 (139968) ] \n",
      "------------------------------------------------------------------------------------\n",
      "|     for M in [0:16)\n",
      "|       for C in [0:16)\n",
      "\n",
      "LocalBuffer [ Weights:1200 (1200) Inputs:3844 (3844) Outputs:8748 (8748) ] \n",
      "inter_PE_spatial [ ] \n",
      "--------------------\n",
      "|         for M in [0:4) (Spatial-Y)\n",
      "|           for C in [0:4) (Spatial-X)\n",
      "\n",
      "RegisterFile [ Weights:75 (75) ] \n",
      "--------------------------------\n",
      "|             for Q in [0:27)\n",
      "|               for P in [0:27)\n",
      "|                 for S in [0:5)\n",
      "|                   for R in [0:5)\n",
      "|                     for M in [0:3)\n",
      "|                       << Compute >>\n",
      "\n",
      "energy:  104303.44\n",
      "cycles:  55987200\n"
     ]
    }
   ],
   "source": [
    "# result = run_timeloop_model(\n",
    "#     architecture='designs/system/arch.yaml',\n",
    "#     mapping='designs/system/map_dp.yaml',\n",
    "#     problem='layer_shapes/prob.yaml'\n",
    "# )\n",
    "# stats = open('./output_dir/timeloop-model.stats.txt', 'r').read()\n",
    "\n",
    "result = run_timeloop_mapper(\n",
    "    architecture='designs/system/arch.yaml',\n",
    "    problem='layer_shapes/prob.yaml',\n",
    "    constraints='designs/system/constraints_dp.yaml',\n",
    "    mapper='designs/_include/mapper.yaml'\n",
    ")\n",
    "stats = open('./output_dir/timeloop-mapper.stats.txt', 'r').read()\n",
    "\n",
    "# print(stats)\n",
    "print(result.mapping)\n",
    "\n",
    "lines = stats.split('\\n')\n",
    "energy = float([l for l in lines if 'Energy:' in l][0].split(' ', 2)[1])\n",
    "cycles = int([l for l in lines if 'Cycles:' in l][0].split(' ', 1)[1])\n",
    "print(\"energy: \", energy)\n",
    "print(\"cycles: \", cycles)"
   ]
  },
  {
   "cell_type": "markdown",
   "id": "d419aa78-2924-46ab-9a43-f2218b2dddae",
   "metadata": {},
   "source": [
    "### Tensor-Parallel"
   ]
  },
  {
   "cell_type": "code",
   "execution_count": 12,
   "id": "05bc20a0-62d3-41c9-bdec-137c3174416e",
   "metadata": {},
   "outputs": [
    {
     "name": "stdout",
     "output_type": "stream",
     "text": [
      "SystemMemory [ Weights:307200 (307200) Inputs:3936256 (3936256) Outputs:8957952 (8957952) ] \n",
      "inter_GPU_spatial [ ] \n",
      "---------------------\n",
      "| for M in [0:16) (Spatial-X)\n",
      "\n",
      "LocalMemory [ Weights:19200 (19200) Inputs:3936256 (3936256) Outputs:559872 (559872) ] \n",
      "--------------------------------------------------------------------------------------\n",
      "|   for N in [0:64)\n",
      "|     for C in [0:16)\n",
      "\n",
      "LocalBuffer [ Weights:1200 (1200) Inputs:3844 (3844) Outputs:8748 (8748) ] \n",
      "--------------------------------------------------------------------------\n",
      "|       for M in [0:3)\n",
      "\n",
      "inter_PE_spatial [ ] \n",
      "--------------------\n",
      "|         for M in [0:4) (Spatial-Y)\n",
      "|           for C in [0:4) (Spatial-X)\n",
      "\n",
      "RegisterFile [ Weights:25 (25) ] \n",
      "--------------------------------\n",
      "|             for Q in [0:27)\n",
      "|               for P in [0:27)\n",
      "|                 for S in [0:5)\n",
      "|                   for R in [0:5)\n",
      "|                     << Compute >>\n",
      "\n",
      "energy:  111271.22\n",
      "cycles:  55987200\n"
     ]
    }
   ],
   "source": [
    "# result = run_timeloop_model(\n",
    "#     architecture='designs/system/arch.yaml',\n",
    "#     mapping='designs/system/map_tp.yaml',\n",
    "#     problem='layer_shapes/prob.yaml'\n",
    "# )\n",
    "# stats = open('./output_dir/timeloop-model.stats.txt', 'r').read()\n",
    "\n",
    "result = run_timeloop_mapper(\n",
    "    architecture='designs/system/arch.yaml',\n",
    "    problem='layer_shapes/prob.yaml',\n",
    "    constraints='designs/system/constraints_tp.yaml',\n",
    "    mapper='designs/_include/mapper.yaml'\n",
    ")\n",
    "stats = open('./output_dir/timeloop-mapper.stats.txt', 'r').read()\n",
    "\n",
    "# print(stats)\n",
    "print(result.mapping)\n",
    "\n",
    "lines = stats.split('\\n')\n",
    "energy = float([l for l in lines if 'Energy:' in l][0].split(' ', 2)[1])\n",
    "cycles = int([l for l in lines if 'Cycles:' in l][0].split(' ', 1)[1])\n",
    "print(\"energy: \", energy)\n",
    "print(\"cycles: \", cycles)"
   ]
  }
 ],
 "metadata": {
  "kernelspec": {
   "display_name": "Python 3 (ipykernel)",
   "language": "python",
   "name": "python3"
  },
  "language_info": {
   "codemirror_mode": {
    "name": "ipython",
    "version": 3
   },
   "file_extension": ".py",
   "mimetype": "text/x-python",
   "name": "python",
   "nbconvert_exporter": "python",
   "pygments_lexer": "ipython3",
   "version": "3.10.12"
  }
 },
 "nbformat": 4,
 "nbformat_minor": 5
}
