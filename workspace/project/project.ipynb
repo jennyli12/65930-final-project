{
 "cells": [
  {
   "cell_type": "markdown",
   "id": "f3a95de4",
   "metadata": {},
   "source": [
    "# Project"
   ]
  },
  {
   "cell_type": "code",
   "execution_count": 16,
   "id": "9a5b537b-2b15-47dd-b128-4cb056ec8c0e",
   "metadata": {},
   "outputs": [],
   "source": [
    "import os\n",
    "import yaml\n",
    "import pytimeloop.timeloopfe.v4 as tl\n",
    "from pytimeloop.timeloopfe.common.nodes import DictNode\n",
    "from pytimeloop.timeloopfe.v4.art import Art\n",
    "from pytimeloop.timeloopfe.v4.ert import Ert\n",
    "import shutil\n",
    "import pickle\n",
    "import matplotlib.pyplot as plt\n",
    "import numpy as np"
   ]
  },
  {
   "cell_type": "code",
   "execution_count": 2,
   "id": "6fd8a2fa-b039-44cc-a63a-cb6858f9e90e",
   "metadata": {},
   "outputs": [],
   "source": [
    "def run_timeloop_mapper(architecture, problem, constraints, mapper, config, output_dir):\n",
    "    if os.path.exists(output_dir):\n",
    "        shutil.rmtree(output_dir)\n",
    "        \n",
    "    spec = tl.Specification.from_yaml_files(architecture, problem, constraints, mapper, jinja_parse_data=config)\n",
    "\n",
    "    result = tl.accelergy_app(spec, output_dir=output_dir)\n",
    "    shutil.copy(output_dir + \"/ART.yaml\", output_dir + \"/timeloop-mapper.ART.yaml\")\n",
    "    shutil.copy(output_dir + \"/ERT.yaml\", output_dir + \"/timeloop-mapper.ERT.yaml\")\n",
    "\n",
    "    spec.ERT = Ert(**DictNode.from_yaml_files(output_dir + \"/ERT.yaml\")[\"ERT\"])\n",
    "    spec.ART = Art(**DictNode.from_yaml_files(output_dir + \"/ART.yaml\")[\"ART\"])\n",
    "\n",
    "    spec.ERT['tables'][0]['actions'][0]['energy'] = 0.0\n",
    "    spec.ERT['tables'][0]['actions'][1]['energy'] = 0.0\n",
    "    spec.ERT['tables'][0]['actions'][2]['energy'] = 0.0\n",
    "    spec.ERT['tables'][0]['actions'][3]['energy'] = 0.0\n",
    "\n",
    "    return tl.call_mapper(spec, output_dir=output_dir)"
   ]
  },
  {
   "cell_type": "code",
   "execution_count": 3,
   "id": "e0a38e45-be84-415e-91f1-d4a068f3a644",
   "metadata": {},
   "outputs": [],
   "source": [
    "def run_data_parallel(problem, num_gpus, pe_array_size):\n",
    "    desc = f\"DP_{num_gpus}GPU_{pe_array_size}x{pe_array_size}_Layer{problem[-6]}\"\n",
    "    output_dir = f\"./outputs/{desc}\"\n",
    "    \n",
    "    result = run_timeloop_mapper(\n",
    "        architecture='designs/system/arch.yaml',\n",
    "        problem=problem,\n",
    "        constraints='designs/system/constraints_dp.yaml',\n",
    "        mapper='designs/_include/mapper.yaml',\n",
    "        config={'gpu_meshX': num_gpus, 'pe_meshX': pe_array_size, 'pe_meshY': pe_array_size},\n",
    "        output_dir=output_dir\n",
    "    )\n",
    "\n",
    "    print(desc, result.energy, result.cycles)\n",
    "    \n",
    "    return result"
   ]
  },
  {
   "cell_type": "code",
   "execution_count": 4,
   "id": "adefcc84-e4ab-4532-b88f-a53f9069000d",
   "metadata": {},
   "outputs": [],
   "source": [
    "def run_tensor_parallel(problem, num_gpus, pe_array_size):\n",
    "    desc = f\"TP_{num_gpus}GPU_{pe_array_size}x{pe_array_size}_Layer{problem[-6]}\"\n",
    "    output_dir = f\"./outputs/{desc}\"\n",
    "    \n",
    "    result = run_timeloop_mapper(\n",
    "        architecture='designs/system/arch.yaml',\n",
    "        problem=problem,\n",
    "        constraints='designs/system/constraints_tp.yaml',\n",
    "        mapper='designs/_include/mapper.yaml',\n",
    "        config={'gpu_meshX': num_gpus, 'pe_meshX': pe_array_size, 'pe_meshY': pe_array_size},\n",
    "        output_dir=output_dir\n",
    "    )\n",
    "    \n",
    "    print(desc, result.energy, result.cycles)\n",
    "    \n",
    "    return result"
   ]
  },
  {
   "cell_type": "code",
   "execution_count": 5,
   "id": "2158b6f4-e8cb-4dec-8694-306b2705ce5e",
   "metadata": {},
   "outputs": [],
   "source": [
    "LAYERS = [\n",
    "    'layer_shapes/alexnet/0.yaml',\n",
    "    'layer_shapes/alexnet/1.yaml',\n",
    "    'layer_shapes/alexnet/2.yaml',\n",
    "    'layer_shapes/alexnet/3.yaml',\n",
    "    'layer_shapes/alexnet/4.yaml',\n",
    "    'layer_shapes/alexnet/5.yaml',\n",
    "    'layer_shapes/alexnet/6.yaml',\n",
    "    'layer_shapes/alexnet/7.yaml'\n",
    "]\n",
    "\n",
    "NUM_GPUS = [16,]\n",
    "\n",
    "PE_ARRAY_SIZES = [16,]"
   ]
  },
  {
   "cell_type": "markdown",
   "id": "3aa5cf4f-f750-4f9a-9c2a-ddba9ac12a51",
   "metadata": {},
   "source": [
    "### Data-Parallel"
   ]
  },
  {
   "cell_type": "code",
   "execution_count": 6,
   "id": "76f4107c-a425-4124-992c-1d343ccf8ac7",
   "metadata": {},
   "outputs": [],
   "source": [
    "def get_result_data_parallel(problem, num_gpus, pe_array_size):\n",
    "    cache_path = f'cache/DP_{num_gpus}GPU_{pe_array_size}x{pe_array_size}_Layer{problem[-6]}.pkl'\n",
    "    try:\n",
    "        result = pickle.load(open(cache_path, 'rb'))\n",
    "        print(f\"Loaded result from cache: {cache_path}\")\n",
    "        return result\n",
    "    except:\n",
    "        pass\n",
    "\n",
    "    os.makedirs('outputs', exist_ok=True)\n",
    "    os.makedirs('cache', exist_ok=True)\n",
    "    \n",
    "    r = run_data_parallel(problem, num_gpus, pe_array_size)\n",
    "    r.clear_zero_energies()\n",
    "    \n",
    "    result = {\n",
    "        'energy': r.energy,\n",
    "        'per_component_energy': r.per_component_energy,\n",
    "        'cycles': r.cycles\n",
    "    }\n",
    "    \n",
    "    pickle.dump(result, open(cache_path, 'wb'))\n",
    "    print(f\"Saved result to cache: {cache_path}\")\n",
    "    return result"
   ]
  },
  {
   "cell_type": "code",
   "execution_count": 7,
   "id": "856eb925-84a8-4c05-a4ac-c6051df7dc1c",
   "metadata": {},
   "outputs": [
    {
     "name": "stdout",
     "output_type": "stream",
     "text": [
      "Loaded result from cache: cache/DP_16GPU_16x16_Layer0.pkl\n",
      "{'energy': 0.04088130765312, 'per_component_energy': {'MAC': 0.01473001728, 'RegisterFile': 0.003756536712192, 'LocalBuffer': 0.020363225659392, 'LocalMemory': 0.002031528001536}, 'cycles': 93702400}\n",
      "Loaded result from cache: cache/DP_16GPU_16x16_Layer1.pkl\n",
      "{'energy': 0.09149179192934401, 'per_component_energy': {'MAC': 0.04693966848, 'RegisterFile': 0.011983303213056, 'LocalBuffer': 0.015680429162496, 'LocalMemory': 0.016888391073792}, 'cycles': 13996800}\n",
      "Loaded result from cache: cache/DP_16GPU_16x16_Layer2.pkl\n",
      "{'energy': 0.045637688151244804, 'per_component_energy': {'MAC': 0.0235046043648, 'RegisterFile': 0.00602772887568384, 'LocalBuffer': 0.00417829330354176, 'LocalMemory': 0.0119270616072192}, 'cycles': 1752192}\n",
      "Loaded result from cache: cache/DP_16GPU_16x16_Layer3.pkl\n",
      "{'energy': 0.060738768470016, 'per_component_energy': {'MAC': 0.0313394724864, 'RegisterFile': 0.00803697183424512, 'LocalBuffer': 0.00557813902344192, 'LocalMemory': 0.01578418512592896}, 'cycles': 2336256}\n",
      "Loaded result from cache: cache/DP_16GPU_16x16_Layer4.pkl\n",
      "{'energy': 0.040608300898713603, 'per_component_energy': {'MAC': 0.0208929816576, 'RegisterFile': 0.00535798122283008, 'LocalBuffer': 0.0037163989204991995, 'LocalMemory': 0.010640939097784321}, 'cycles': 1557504}\n",
      "Loaded result from cache: cache/DP_16GPU_16x16_Layer5.pkl\n",
      "{'energy': 0.17067806507925504, 'per_component_energy': {'MAC': 0.0079121350656, 'RegisterFile': 0.00252093910745088, 'LocalBuffer': 0.0049131338858496, 'LocalMemory': 0.15533185702035457}, 'cycles': 589824}\n",
      "Loaded result from cache: cache/DP_16GPU_16x16_Layer6.pkl\n",
      "{'energy': 0.07587518216142848, 'per_component_energy': {'MAC': 0.0035165044736, 'RegisterFile': 0.00112041738108928, 'LocalBuffer': 0.0021832392507392, 'LocalMemory': 0.069055021056}, 'cycles': 262144}\n",
      "Loaded result from cache: cache/DP_16GPU_16x16_Layer7.pkl\n",
      "{'energy': 0.01857614774272, 'per_component_energy': {'MAC': 0.0008585216, 'RegisterFile': 0.00027353939968, 'LocalBuffer': 0.00055801544704, 'LocalMemory': 0.016886071296}, 'cycles': 102400}\n"
     ]
    }
   ],
   "source": [
    "for num_gpus in NUM_GPUS:\n",
    "    for pe_array_size in PE_ARRAY_SIZES:\n",
    "        for problem in LAYERS:\n",
    "            result = get_result_data_parallel(problem, num_gpus, pe_array_size)\n",
    "            print(result)"
   ]
  },
  {
   "cell_type": "markdown",
   "id": "536bf8ba-b3d7-4e1c-8925-26ce7c7c5ee2",
   "metadata": {},
   "source": [
    "### Tensor-Parallel"
   ]
  },
  {
   "cell_type": "code",
   "execution_count": 10,
   "id": "d5bc6144-0fad-47cf-b682-c81f9a1669b0",
   "metadata": {},
   "outputs": [],
   "source": [
    "def get_result_tensor_parallel(problem, num_gpus, pe_array_size):\n",
    "    cache_path = f'cache/TP_{num_gpus}GPU_{pe_array_size}x{pe_array_size}_Layer{problem[-6]}.pkl'\n",
    "    try:\n",
    "        result = pickle.load(open(cache_path, 'rb'))\n",
    "        print(f\"Loaded result from cache: {cache_path}\")\n",
    "        return result\n",
    "    except:\n",
    "        pass\n",
    "\n",
    "    os.makedirs('outputs', exist_ok=True)\n",
    "    os.makedirs('cache', exist_ok=True)\n",
    "    \n",
    "    r = run_tensor_parallel(problem, num_gpus, pe_array_size)\n",
    "    r.clear_zero_energies()\n",
    "\n",
    "    parsed_processed_input = f\"./outputs/TP_{num_gpus}GPU_{pe_array_size}x{pe_array_size}_Layer{problem[-6]}/parsed-processed-input.yaml\"\n",
    "    instance = yaml.safe_load(open(parsed_processed_input, 'r').read())['problem']['instance']\n",
    "\n",
    "    num_hops = num_gpus * (num_gpus - 1)\n",
    "    tensor_size = instance['N'] * instance['M'] * instance['P'] * instance['Q']\n",
    "    \n",
    "    network_energy = num_hops * tensor_size * 1.3e-12 * 16\n",
    "\n",
    "    r.per_component_energy[\"Network\"] = network_energy\n",
    "    \n",
    "    result = {\n",
    "        'energy': r.energy + network_energy,\n",
    "        'per_component_energy': r.per_component_energy,\n",
    "        'cycles': r.cycles\n",
    "    }\n",
    "    \n",
    "    pickle.dump(result, open(cache_path, 'wb'))\n",
    "    print(f\"Saved result to cache: {cache_path}\")\n",
    "    return result"
   ]
  },
  {
   "cell_type": "code",
   "execution_count": 11,
   "id": "e4762369-d5bb-4a2a-99e3-8d0fd6c7168c",
   "metadata": {},
   "outputs": [
    {
     "name": "stdout",
     "output_type": "stream",
     "text": [
      "TP_16GPU_16x16_Layer0 0.043993546662912004 93702400\n",
      "Saved result to cache: cache/TP_16GPU_16x16_Layer0.pkl\n",
      "{'energy': 0.10584642346291201, 'per_component_energy': {'MAC': 0.01473001728, 'RegisterFile': 0.003756536712192, 'LocalBuffer': 0.020405054410752, 'LocalMemory': 0.005101938259968, 'Network': 0.0618528768}, 'cycles': 93702400}\n",
      "TP_16GPU_16x16_Layer1 0.10351723334860802 18662400\n",
      "Saved result to cache: cache/TP_16GPU_16x16_Layer1.pkl\n",
      "{'energy': 0.148235329732608, 'per_component_energy': {'MAC': 0.04693966848, 'RegisterFile': 0.011983303213056, 'LocalBuffer': 0.024768808943616, 'LocalMemory': 0.019825452711936, 'Network': 0.044718096384}, 'cycles': 18662400}\n",
      "TP_16GPU_16x16_Layer2 0.051505226868326405 2336256\n",
      "Saved result to cache: cache/TP_16GPU_16x16_Layer2.pkl\n",
      "{'energy': 0.0722387201163264, 'per_component_energy': {'MAC': 0.0235046043648, 'RegisterFile': 0.00602772887568384, 'LocalBuffer': 0.00459592167849984, 'LocalMemory': 0.01737697194934272, 'Network': 0.020733493247999998}, 'cycles': 2336256}\n",
      "TP_16GPU_16x16_Layer3 0.07165456989290496 2336256\n",
      "Saved result to cache: cache/TP_16GPU_16x16_Layer3.pkl\n",
      "{'energy': 0.08547689872490496, 'per_component_energy': {'MAC': 0.0313394724864, 'RegisterFile': 0.0080133356519424, 'LocalBuffer': 0.00556100996825088, 'LocalMemory': 0.02674075178631168, 'Network': 0.013822328831999998}, 'cycles': 2336256}\n",
      "TP_16GPU_16x16_Layer4 0.047885565642670075 1557504\n",
      "Saved result to cache: cache/TP_16GPU_16x16_Layer4.pkl\n",
      "{'energy': 0.06170789447467007, 'per_component_energy': {'MAC': 0.0208929816576, 'RegisterFile': 0.0053422237679616, 'LocalBuffer': 0.0037050433457356795, 'LocalMemory': 0.0179453168713728, 'Network': 0.013822328831999998}, 'cycles': 1557504}\n",
      "TP_16GPU_16x16_Layer5 0.02823003888943104 589824\n",
      "Saved result to cache: cache/TP_16GPU_16x16_Layer5.pkl\n",
      "{'energy': 0.02953866173743104, 'per_component_energy': {'MAC': 0.0079121350656, 'RegisterFile': 0.0022690312224768003, 'LocalBuffer': 0.00231184130899968, 'LocalMemory': 0.01573703129235456, 'Network': 0.0013086228479999998}, 'cycles': 589824}\n",
      "TP_16GPU_16x16_Layer6 0.01123602099339264 262144\n",
      "Saved result to cache: cache/TP_16GPU_16x16_Layer6.pkl\n",
      "{'energy': 0.01254464384139264, 'per_component_energy': {'MAC': 0.0035165044736, 'RegisterFile': 0.0009524841598156801, 'LocalBuffer': 0.0008278978959769599, 'LocalMemory': 0.005939134464, 'Network': 0.0013086228479999998}, 'cycles': 262144}\n",
      "TP_16GPU_16x16_Layer7 0.0034330936947507204 114688\n",
      "Saved result to cache: cache/TP_16GPU_16x16_Layer7.pkl\n",
      "{'energy': 0.0037525816947507206, 'per_component_energy': {'MAC': 0.0008593801216, 'RegisterFile': 0.00022251253792767998, 'LocalBuffer': 0.00021223671332863998, 'LocalMemory': 0.0021389643218944, 'Network': 0.000319488}, 'cycles': 114688}\n"
     ]
    }
   ],
   "source": [
    "for num_gpus in NUM_GPUS:\n",
    "    for pe_array_size in PE_ARRAY_SIZES:\n",
    "        for problem in LAYERS:\n",
    "            result = get_result_tensor_parallel(problem, num_gpus, pe_array_size)\n",
    "            print(result)"
   ]
  },
  {
   "cell_type": "markdown",
   "id": "148e6024-f649-4515-b6b6-afe909295e7e",
   "metadata": {},
   "source": [
    "### Analysis"
   ]
  },
  {
   "cell_type": "code",
   "execution_count": 19,
   "id": "c5fc8f34-c9e5-41d2-9e34-f90400b5cb6d",
   "metadata": {},
   "outputs": [
    {
     "name": "stdout",
     "output_type": "stream",
     "text": [
      "Loaded result from cache: cache/DP_16GPU_16x16_Layer0.pkl\n",
      "Loaded result from cache: cache/DP_16GPU_16x16_Layer1.pkl\n",
      "Loaded result from cache: cache/DP_16GPU_16x16_Layer2.pkl\n",
      "Loaded result from cache: cache/DP_16GPU_16x16_Layer3.pkl\n",
      "Loaded result from cache: cache/DP_16GPU_16x16_Layer4.pkl\n",
      "Loaded result from cache: cache/DP_16GPU_16x16_Layer5.pkl\n",
      "Loaded result from cache: cache/DP_16GPU_16x16_Layer6.pkl\n",
      "Loaded result from cache: cache/DP_16GPU_16x16_Layer7.pkl\n"
     ]
    },
    {
     "data": {
      "image/png": "[encoded data removed]",
      "text/plain": [
       "<Figure size 640x480 with 1 Axes>"
      ]
     },
     "metadata": {},
     "output_type": "display_data"
    }
   ],
   "source": [
    "bar_chart_data = {}\n",
    "for problem in LAYERS:\n",
    "    result = get_result_data_parallel(problem, 16, 16)\n",
    "    for component, energy in result['per_component_energy'].items():\n",
    "        if component not in bar_chart_data:\n",
    "            bar_chart_data[component] = []\n",
    "        bar_chart_data[component].append(energy)\n",
    "# print(bar_chart_data)\n",
    "\n",
    "layers = (\"0\", \"1\", \"2\", \"3\", \"4\", \"5\", \"6\", \"7\")\n",
    "width = 0.5\n",
    "\n",
    "fig, ax = plt.subplots()\n",
    "bottom = np.zeros(8)\n",
    "\n",
    "for component, energy in bar_chart_data.items():\n",
    "    p = ax.bar(layers, energy, width, label=component, bottom=bottom)\n",
    "    bottom += energy\n",
    "\n",
    "ax.set_xlabel(\"Layer\")\n",
    "ax.set_ylabel(\"Energy\")\n",
    "ax.legend(loc=\"upper right\")\n",
    "\n",
    "plt.show()"
   ]
  },
  {
   "cell_type": "code",
   "execution_count": 20,
   "id": "0c690e3a-46d9-4c0d-b7f3-d00de77b724e",
   "metadata": {},
   "outputs": [
    {
     "name": "stdout",
     "output_type": "stream",
     "text": [
      "Loaded result from cache: cache/TP_16GPU_16x16_Layer0.pkl\n",
      "Loaded result from cache: cache/TP_16GPU_16x16_Layer1.pkl\n",
      "Loaded result from cache: cache/TP_16GPU_16x16_Layer2.pkl\n",
      "Loaded result from cache: cache/TP_16GPU_16x16_Layer3.pkl\n",
      "Loaded result from cache: cache/TP_16GPU_16x16_Layer4.pkl\n",
      "Loaded result from cache: cache/TP_16GPU_16x16_Layer5.pkl\n",
      "Loaded result from cache: cache/TP_16GPU_16x16_Layer6.pkl\n",
      "Loaded result from cache: cache/TP_16GPU_16x16_Layer7.pkl\n"
     ]
    },
    {
     "data": {
      "image/png": "[encoded data removed]",
      "text/plain": [
       "<Figure size 640x480 with 1 Axes>"
      ]
     },
     "metadata": {},
     "output_type": "display_data"
    }
   ],
   "source": [
    "bar_chart_data = {}\n",
    "for problem in LAYERS:\n",
    "    result = get_result_tensor_parallel(problem, 16, 16)\n",
    "    for component, energy in result['per_component_energy'].items():\n",
    "        if component not in bar_chart_data:\n",
    "            bar_chart_data[component] = []\n",
    "        bar_chart_data[component].append(energy)\n",
    "# print(bar_chart_data)\n",
    "\n",
    "layers = (\"0\", \"1\", \"2\", \"3\", \"4\", \"5\", \"6\", \"7\")\n",
    "width = 0.5\n",
    "\n",
    "fig, ax = plt.subplots()\n",
    "bottom = np.zeros(8)\n",
    "\n",
    "for component, energy in bar_chart_data.items():\n",
    "    p = ax.bar(layers, energy, width, label=component, bottom=bottom)\n",
    "    bottom += energy\n",
    "\n",
    "ax.set_xlabel(\"Layer\")\n",
    "ax.set_ylabel(\"Energy\")\n",
    "ax.legend(loc=\"upper right\")\n",
    "\n",
    "plt.show()"
   ]
  },
  {
   "cell_type": "code",
   "execution_count": null,
   "id": "030925f5-ef12-4f65-b498-852186680165",
   "metadata": {},
   "outputs": [],
   "source": [
    "total_energy_dp = np.array([320536.32, 326133.50999999995, 359342.34, 421380.81, 544487.17])\n",
    "total_latency_dp = np.array([1828792320, 919068672, 457198080, 228599040, 114299520])\n",
    "conv_energy_dp = np.array([40836.68, 40839.65, 40845.6, 40857.5, 40881.29])\n",
    "conv_latency_dp = np.array([1499238400, 749619200, 374809600, 187404800, 93702400])\n",
    "fc_energy_dp = np.array([3084.45, 3691.62, 5761.71, 10067.64, 18576.15])\n",
    "fc_latency_dp = np.array([1638400, 819200, 409600, 204800, 102400])\n",
    "\n",
    "total_energy_tp = np.array([320536.32, 320649.1754816, 332405.39288959996, 379613.1234848, 519341.167792])\n",
    "total_latency_tp = np.array([1828792320, 914396160, 457984512, 228803840, 119561472])\n",
    "conv_energy_tp = np.array([40836.68, 41562.58064, 44560.69384, 56742.22792, 105846.4368])\n",
    "conv_latency_tp = np.array([1499238400, 749619200, 374809600, 187404800, 93702400])\n",
    "fc_energy_tp = np.array([3084.45, 2947.9624000000003, 3166.6344, 3011.5972, 3752.578])\n",
    "fc_latency_tp = np.array([1638400, 819200, 409600, 409600, 114688])"
   ]
  },
  {
   "cell_type": "code",
   "execution_count": null,
   "id": "71424c95-c5c0-48a2-9001-ac2ff6c16223",
   "metadata": {},
   "outputs": [],
   "source": [
    "plt.plot(NUM_GPUS, total_energy_dp, label=\"DP\")\n",
    "plt.plot(NUM_GPUS, total_energy_tp, label=\"TP\")\n",
    "plt.xlabel(\"Number of GPUs\")\n",
    "plt.ylabel(\"Energy (uJ)\")\n",
    "plt.legend()\n",
    "plt.title(\"AlexNet\")\n",
    "\n",
    "# fig, ((ax1, ax2), (ax3, ax4), (ax5, ax6)) = plt.subplots(3, 2)\n",
    "# fig.suptitle('Plots')\n",
    "# ax1.plot(NUM_GPUS, total_energy_dp)\n",
    "# ax1.plot(NUM_GPUS, total_energy_tp)\n",
    "# ax2.plot(NUM_GPUS, total_latency_dp)\n",
    "# ax2.plot(NUM_GPUS, total_latency_tp)\n",
    "\n",
    "# ax3.plot(NUM_GPUS, conv_energy_dp)\n",
    "# ax3.plot(NUM_GPUS, conv_energy_tp)\n",
    "# ax4.plot(NUM_GPUS, conv_latency_dp)\n",
    "# ax4.plot(NUM_GPUS, conv_latency_tp)\n",
    "\n",
    "# ax5.plot(NUM_GPUS, fc_energy_dp)\n",
    "# ax5.plot(NUM_GPUS, fc_energy_tp)\n",
    "# ax6.plot(NUM_GPUS, fc_latency_dp)\n",
    "# ax6.plot(NUM_GPUS, fc_latency_tp)\n",
    "\n",
    "# for ax in fig.get_axes():\n",
    "#     ax.label_outer()"
   ]
  },
  {
   "cell_type": "code",
   "execution_count": null,
   "id": "be93d72f-ca3f-456c-961e-0a98c7b6056c",
   "metadata": {},
   "outputs": [],
   "source": [
    "plt.plot(NUM_GPUS, total_latency_dp, label=\"DP\")\n",
    "plt.plot(NUM_GPUS, total_latency_tp, label=\"TP\")\n",
    "plt.xlabel(\"Number of GPUs\")\n",
    "plt.ylabel(\"Latency (cycles)\")\n",
    "plt.legend()\n",
    "plt.title(\"AlexNet\")"
   ]
  },
  {
   "cell_type": "code",
   "execution_count": null,
   "id": "aec04dd1-7715-46e0-a9f7-c30aef3ae3ba",
   "metadata": {},
   "outputs": [],
   "source": [
    "plt.plot(NUM_GPUS, conv_energy_dp, label=\"DP\")\n",
    "plt.plot(NUM_GPUS, conv_energy_tp, label=\"TP\")\n",
    "plt.xlabel(\"Number of GPUs\")\n",
    "plt.ylabel(\"Energy (uJ)\")\n",
    "plt.legend()\n",
    "plt.title(\"CONV\")"
   ]
  },
  {
   "cell_type": "code",
   "execution_count": null,
   "id": "77c83672-ab61-4322-b095-48c27171b11f",
   "metadata": {},
   "outputs": [],
   "source": [
    "plt.plot(NUM_GPUS, fc_energy_dp, label=\"DP\")\n",
    "plt.plot(NUM_GPUS, fc_energy_tp, label=\"TP\")\n",
    "plt.xlabel(\"Number of GPUs\")\n",
    "plt.ylabel(\"Energy (uJ)\")\n",
    "plt.legend()\n",
    "plt.title(\"FC\")"
   ]
  }
 ],
 "metadata": {
  "kernelspec": {
   "display_name": "Python 3 (ipykernel)",
   "language": "python",
   "name": "python3"
  },
  "language_info": {
   "codemirror_mode": {
    "name": "ipython",
    "version": 3
   },
   "file_extension": ".py",
   "mimetype": "text/x-python",
   "name": "python",
   "nbconvert_exporter": "python",
   "pygments_lexer": "ipython3",
   "version": "3.10.12"
  }
 },
 "nbformat": 4,
 "nbformat_minor": 5
}
